{
 "cells": [
  {
   "cell_type": "markdown",
   "id": "a5eb3386",
   "metadata": {},
   "source": [
    "# 4. Data Oversampling\n",
    "\n",
    "In this notebook, we conduct oversampling methods as shown below:\n",
    "- random oversampling\n",
    "- SMOTE(NC)\n",
    "- Borderline SMOTE\n",
    "- ADASYN\n",
    "\n",
    "Note that, we only conduct oversampling for companies before 2022. "
   ]
  },
  {
   "cell_type": "code",
   "execution_count": 1,
   "id": "abe0c7e7",
   "metadata": {},
   "outputs": [],
   "source": [
    "import numpy as np\n",
    "import pandas as pd\n",
    "from imblearn.over_sampling import RandomOverSampler, SMOTENC, BorderlineSMOTE, ADASYN"
   ]
  },
  {
   "cell_type": "code",
   "execution_count": 2,
   "id": "c8055c77",
   "metadata": {},
   "outputs": [
    {
     "name": "stderr",
     "output_type": "stream",
     "text": [
      "/var/folders/kw/6hnl881s2p9701b42gpjt_pr0000gn/T/ipykernel_20492/1157130599.py:1: DtypeWarning: Columns (11) have mixed types. Specify dtype option on import or set low_memory=False.\n",
      "  df_median_original = pd.read_csv('../database/companies/imputation/median/median_original.csv')\n"
     ]
    }
   ],
   "source": [
    "df_median_original = pd.read_csv('../database/companies/imputation/median/median_original.csv')\n",
    "df_knn = pd.read_csv('../database/companies/imputation/kNN/kNN_original.csv')\n",
    "df_miceforest = pd.read_csv('../database/companies/imputation/MiceForest/MiceForest_original.csv')\n",
    "df_gain = pd.read_csv('../database/companies/imputation/GAIN/GAIN_original.csv')\n",
    "\n",
    "df_list = [df_median_original, df_knn, df_miceforest, df_gain]"
   ]
  },
  {
   "cell_type": "code",
   "execution_count": 3,
   "id": "f014f90c",
   "metadata": {},
   "outputs": [],
   "source": [
    "governance = [\"ceo_is_female\",\"unequal_voting\",\"ceo_tenure\",\"board_size\",\"classified_board_system\",\"poison_pill\",\"buyback_yield\",\n",
    "              \"dividend_payout_ratio\",\"cf_to_total_compensation_to_executives\",\"cf_to_total_compensation_to_board_members\"]\n",
    "\n",
    "operation = [\"cf_to_capex_industry_peers_percentile\",\"net_debt_to_ebitda_industry_peers_percentile\",\n",
    "             \"current_ratio_industry_peers_percentile\",\"ebitda_margin_industry_peers_percentile\",\n",
    "             \"sales_to_total_assets_industry_peers_percentile\",\"employee_growth_rate_industry_peers_percentile\",\n",
    "             \"fcf_yield_industry_peers_percentile\",\"sales_growth_rate_industry_peers_percentile\",\n",
    "             \"cash_conversion_cycle_industry_peers_percentile\",\"interest_coverage_ratio_industry_peers_percentile\"]\n",
    "\n",
    "ownership = [\"free_float_percentage\",\"institution_ownership_percentage\",\"insider_shares_percentage\"]\n",
    "\n",
    "\n",
    "technical = ['rsi_14d','rsi_30d','volatility_30d','volatility_90d','volatility_180d',\"volume_30d_average_to_outstanding\"]\n",
    "\n",
    "returns = ['total_return_5y', 'total_return_4y', 'total_return_3y','total_return_2y', 'total_return_1y', 'total_return_6m','total_return_3m']\n",
    "\n",
    "valuation = [\"roe_industry_peers_percentile\",\"operating_roic_industry_peers_percentile\",\"pe_ratio_industry_peers_percentile\",\n",
    "             \"eps_industry_peers_percentile\",\"ev_to_sales_industry_peers_percentile\",\"tobin_q_ratio_industry_peers_percentile\",\n",
    "             \"pb_ratio_industry_peers_percentile\",\"asset_to_equity_industry_peers_percentile\",\"ev_ebitda_industry_peers_percentile\", \"ev_to_asset_industry_peers_percentile\"]\n",
    "\n",
    "binary = [\"ceo_is_female\",\"unequal_voting\", \"classified_board_system\",\"poison_pill\"]\n",
    "\n",
    "features = governance + operation + ownership + technical + returns + valuation\n",
    "\n",
    "categorical_features_indices = [features.index(col) for col in binary]"
   ]
  },
  {
   "cell_type": "code",
   "execution_count": 4,
   "id": "a222b63d",
   "metadata": {},
   "outputs": [],
   "source": [
    "df_names = ['median_original', 'kNN_original', 'MiceForest_original', 'GAIN_original']\n",
    "\n",
    "df_paths = [\n",
    "    '../database/companies/imputation/median/',\n",
    "    '../database/companies/imputation/kNN/',\n",
    "    '../database/companies/imputation/MiceForest/',\n",
    "    '../database/companies/imputation/GAIN/'\n",
    "]"
   ]
  },
  {
   "cell_type": "markdown",
   "id": "1016e86f",
   "metadata": {},
   "source": [
    "## 1. Random Oversampling (ROSE)"
   ]
  },
  {
   "cell_type": "code",
   "execution_count": 5,
   "id": "dfae9c92",
   "metadata": {},
   "outputs": [],
   "source": [
    "ros = RandomOverSampler(random_state=0)\n",
    "\n",
    "for df, name, path in zip(df_list, df_names, df_paths):\n",
    "    \n",
    "    # split the training set and test set\n",
    "    df_training = df[df['training_data'] == 1]\n",
    "    df_testing = df[df['training_data'] == 0]\n",
    "\n",
    "    \n",
    "    # conduct oversampling for training set\n",
    "    X = df_training[features]\n",
    "    y = df_training[\"targeted\"]\n",
    "    X_resampled, y_resampled = ros.fit_resample(X, y)\n",
    "    \n",
    "    # convert it to pandas dataframe\n",
    "    df_resampled_training = pd.DataFrame(X_resampled, columns=features)\n",
    "    df_resampled_training[\"targeted\"] = y_resampled\n",
    "    df_resampled_training[\"training_data\"] = 1\n",
    "    \n",
    "    # concatenate it with the test data\n",
    "    df_resampled = pd.concat([df_resampled_training, df_testing], ignore_index=True)\n",
    "    \n",
    "    # convert the non-binary values of the binary columns to the binary value\n",
    "    for col in binary:\n",
    "        if col in df_resampled.columns:\n",
    "            df_resampled[col] = (df_resampled[col] > 0.5).astype(int)\n",
    "    \n",
    "    # save this as the csv file.\n",
    "    resampled_path = path + name.replace(\"_original\", \"_ROSE\") + \".csv\"\n",
    "    df_resampled.to_csv(resampled_path, index=False)\n"
   ]
  },
  {
   "cell_type": "markdown",
   "id": "01354853",
   "metadata": {},
   "source": [
    "## 2. SMOTENC"
   ]
  },
  {
   "cell_type": "code",
   "execution_count": 6,
   "id": "8d7db8b3",
   "metadata": {},
   "outputs": [],
   "source": [
    "smote_nc = SMOTENC(categorical_features=categorical_features_indices, random_state=0)\n",
    "\n",
    "for df, name, path in zip(df_list, df_names, df_paths):\n",
    " \n",
    "    df_training = df[df['training_data'] == 1]\n",
    "    df_testing = df[df['training_data'] == 0]\n",
    "    \n",
    "    X = df_training[features]\n",
    "    y = df_training[\"targeted\"]\n",
    "    X_resampled, y_resampled = smote_nc.fit_resample(X, y)\n",
    "\n",
    "    df_resampled_training = pd.DataFrame(X_resampled, columns=features)\n",
    "    df_resampled_training[\"targeted\"] = y_resampled\n",
    "    df_resampled_training[\"training_data\"] = 1\n",
    "\n",
    "    df_resampled = pd.concat([df_resampled_training, df_testing], ignore_index=True)\n",
    "\n",
    "    resampled_path = path + name.replace(\"_original\", \"_SMOTENC\") + \".csv\"\n",
    "    df_resampled.to_csv(resampled_path, index=False)\n",
    "    "
   ]
  },
  {
   "cell_type": "markdown",
   "id": "744f2ec0",
   "metadata": {},
   "source": [
    "## 3. Borderline SMOTE"
   ]
  },
  {
   "cell_type": "code",
   "execution_count": 7,
   "id": "c5fdddad",
   "metadata": {},
   "outputs": [],
   "source": [
    "borderline_smote = BorderlineSMOTE(random_state=0)\n",
    "\n",
    "for df, name, path in zip(df_list, df_names, df_paths):\n",
    "\n",
    "    df_training = df[df['training_data'] == 1]\n",
    "    df_testing = df[df['training_data'] == 0]\n",
    "    df_training = df[df['year'] < 2022]\n",
    "    df_testing = df[df['year'] == 2022]\n",
    "\n",
    "    X = df_training[features]\n",
    "    y = df_training[\"targeted\"]\n",
    "    X_resampled, y_resampled = borderline_smote.fit_resample(X, y)\n",
    "\n",
    "    df_resampled_training = pd.DataFrame(X_resampled, columns=features)\n",
    "    df_resampled_training[\"targeted\"] = y_resampled\n",
    "    df_resampled_training[\"training_data\"] = 1\n",
    "\n",
    "\n",
    "    for col in binary:\n",
    "        if col in df_resampled_training.columns:\n",
    "            df_resampled_training[col] = (df_resampled_training[col] > 0.5).astype(int)\n",
    "\n",
    "    df_resampled = pd.concat([df_resampled_training, df_testing], ignore_index=True)\n",
    "\n",
    "    resampled_path = path + name.replace(\"_original\", \"_BORDERLINESMOTE\") + \".csv\"\n",
    "    df_resampled.to_csv(resampled_path, index=False)\n",
    "    "
   ]
  },
  {
   "cell_type": "markdown",
   "id": "8cc8a07f",
   "metadata": {},
   "source": [
    "## 4. ADASYN"
   ]
  },
  {
   "cell_type": "code",
   "execution_count": 8,
   "id": "a3004aea",
   "metadata": {},
   "outputs": [],
   "source": [
    "adasyn = ADASYN(random_state=42)\n",
    "\n",
    "for df, name, path in zip(df_list, df_names, df_paths):\n",
    "\n",
    "    df_training = df[df['training_data'] == 1]\n",
    "    df_testing = df[df['training_data'] == 0]\n",
    "\n",
    "    X = df_training[features]\n",
    "    y = df_training[\"targeted\"]\n",
    "    X_resampled, y_resampled = adasyn.fit_resample(X, y)\n",
    "\n",
    "    df_resampled_training = pd.DataFrame(X_resampled, columns=features)\n",
    "    df_resampled_training[\"targeted\"] = y_resampled\n",
    "    df_resampled_training[\"training_data\"] = 1\n",
    "\n",
    "    for col in binary:\n",
    "        if col in df_resampled_training.columns:\n",
    "            df_resampled_training[col] = (df_resampled_training[col] > 0.5).astype(int)\n",
    "\n",
    "    df_resampled = pd.concat([df_resampled_training, df_testing], ignore_index=True)\n",
    "\n",
    "    resampled_path = path + name.replace(\"_original\", \"_ADASYN\") + \".csv\"\n",
    "    df_resampled.to_csv(resampled_path, index=False)\n"
   ]
  }
 ],
 "metadata": {
  "kernelspec": {
   "display_name": "Python 3 (ipykernel)",
   "language": "python",
   "name": "python3"
  },
  "language_info": {
   "codemirror_mode": {
    "name": "ipython",
    "version": 3
   },
   "file_extension": ".py",
   "mimetype": "text/x-python",
   "name": "python",
   "nbconvert_exporter": "python",
   "pygments_lexer": "ipython3",
   "version": "3.11.7"
  }
 },
 "nbformat": 4,
 "nbformat_minor": 5
}

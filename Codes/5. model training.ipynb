{
 "cells": [
  {
   "cell_type": "markdown",
   "id": "768e46a8",
   "metadata": {},
   "source": [
    "# 5. Model Training"
   ]
  },
  {
   "cell_type": "markdown",
   "id": "02996372",
   "metadata": {},
   "source": [
    "This notebook trains different models with data made of different imputation & oversampling methods:\n",
    "\n",
    "4 imputation methods:\n",
    "- Median\n",
    "- KNN\n",
    "- MiceForest\n",
    "- GAIN\n",
    "\n",
    "5 oversampling methods:\n",
    "- Original\n",
    "- Random Oversampling\n",
    "- SMOTENC\n",
    "- borderline SMOTE\n",
    "- ADASYN\n",
    "\n",
    "7 models:\n",
    "- Logistic Regression\n",
    "- Random Forest\n",
    "- XGBoost\n",
    "- LightGBM\n",
    "- CatBoost\n",
    "- Multilayer Perceptron\n",
    "- Dropout Perceptron \n",
    "\n",
    "It makes 4 x 5 x 7 = 140 combinations\n",
    "\n",
    "Plus, Xgboost, LightGBM, and Catboost can have sparse data.\n",
    "Therefore, we handle 140 + 3 = 143 in total"
   ]
  },
  {
   "cell_type": "code",
   "execution_count": 1,
   "id": "c0766f68",
   "metadata": {},
   "outputs": [],
   "source": [
    "import numpy as np\n",
    "import pandas as pd\n",
    "import statsmodels.api as sm\n",
    "from sklearn.linear_model import LogisticRegression\n",
    "from sklearn.ensemble import RandomForestClassifier\n",
    "from xgboost import XGBClassifier\n",
    "from lightgbm import LGBMClassifier\n",
    "from catboost import CatBoostClassifier\n",
    "from sklearn.neural_network import MLPClassifier\n",
    "from sklearn.pipeline import make_pipeline\n",
    "\n",
    "import torch\n",
    "import torch.nn as nn\n",
    "import torch.optim as optim\n",
    "from torch.utils.data import DataLoader, TensorDataset\n",
    "\n",
    "from sklearn.model_selection import train_test_split\n",
    "from sklearn.metrics import roc_auc_score\n",
    "from sklearn.preprocessing import StandardScaler\n",
    "\n",
    "import joblib"
   ]
  },
  {
   "cell_type": "code",
   "execution_count": 2,
   "id": "83aef63f",
   "metadata": {},
   "outputs": [],
   "source": [
    "governance = [\"ceo_is_female\",\"unequal_voting\",\"ceo_tenure\",\"board_size\",\"classified_board_system\",\"poison_pill\",\"buyback_yield\",\n",
    "              \"dividend_payout_ratio\",\"cf_to_total_compensation_to_executives\",\"cf_to_total_compensation_to_board_members\"]\n",
    "\n",
    "operation = [\"cf_to_capex_industry_peers_percentile\",\"net_debt_to_ebitda_industry_peers_percentile\",\n",
    "             \"current_ratio_industry_peers_percentile\",\"ebitda_margin_industry_peers_percentile\",\n",
    "             \"sales_to_total_assets_industry_peers_percentile\",\"employee_growth_rate_industry_peers_percentile\",\n",
    "             \"fcf_yield_industry_peers_percentile\",\"sales_growth_rate_industry_peers_percentile\",\n",
    "             \"cash_conversion_cycle_industry_peers_percentile\",\"interest_coverage_ratio_industry_peers_percentile\"]\n",
    "\n",
    "ownership = [\"free_float_percentage\",\"institution_ownership_percentage\",\"insider_shares_percentage\"]\n",
    "\n",
    "technical= ['rsi_14d','rsi_30d','volatility_30d','volatility_90d','volatility_180d',\"volume_30d_average_to_outstanding\"]\n",
    "\n",
    "returns = ['total_return_5y', 'total_return_4y', 'total_return_3y','total_return_2y', 'total_return_1y', 'total_return_6m','total_return_3m']\n",
    "\n",
    "valuation = [\"roe_industry_peers_percentile\",\"operating_roic_industry_peers_percentile\",\"pe_ratio_industry_peers_percentile\",\n",
    "             \"eps_industry_peers_percentile\",\"ev_to_sales_industry_peers_percentile\",\"tobin_q_ratio_industry_peers_percentile\",\n",
    "             \"pb_ratio_industry_peers_percentile\",\"asset_to_equity_industry_peers_percentile\",\"ev_ebitda_industry_peers_percentile\", \"ev_to_asset_industry_peers_percentile\"]\n",
    "\n",
    "binary = [\"ceo_is_female\",\"unequal_voting\", \"classified_board_system\",\"poison_pill\"]\n",
    "\n",
    "features = governance + operation + ownership + technical + returns + valuation"
   ]
  },
  {
   "cell_type": "code",
   "execution_count": 3,
   "id": "4ee7bf7f",
   "metadata": {},
   "outputs": [],
   "source": [
    "class DropoutMLPClassifier(nn.Module):\n",
    "    def __init__(self, input_dim):\n",
    "        super(DropoutMLPClassifier, self).__init__()\n",
    "        self.layer1 = nn.Linear(input_dim, 100)\n",
    "        self.layer2 = nn.Linear(100, 50)\n",
    "        self.dropout = nn.Dropout(0.5)\n",
    "        self.output_layer = nn.Linear(50, 1)\n",
    "        self.relu = nn.ReLU()\n",
    "        \n",
    "    def forward(self, x):\n",
    "        x = self.relu(self.layer1(x))\n",
    "        x = self.dropout(x)\n",
    "        x = self.relu(self.layer2(x))\n",
    "        x = self.dropout(x)\n",
    "        x = torch.sigmoid(self.output_layer(x))\n",
    "        return x\n",
    "\n",
    "def train_pytorch_model(model, X_train, y_train, X_test, y_test, epochs=5000, learning_rate=1e-3):\n",
    "    X_train_tensor = torch.tensor(X_train.values.astype(np.float32))\n",
    "    y_train_tensor = torch.tensor(y_train.values.astype(np.float32)).view(-1, 1)\n",
    "    X_test_tensor = torch.tensor(X_test.values.astype(np.float32))\n",
    "\n",
    "    criterion = nn.BCELoss()\n",
    "    optimizer = optim.Adam(model.parameters(), lr=learning_rate)\n",
    "\n",
    "    model.train()\n",
    "    for epoch in range(epochs):\n",
    "        optimizer.zero_grad()\n",
    "        output = model(X_train_tensor)\n",
    "        loss = criterion(output, y_train_tensor)\n",
    "        loss.backward()\n",
    "        optimizer.step()\n",
    "\n",
    "    model.eval()\n",
    "    with torch.no_grad():\n",
    "        y_train_pred = model(X_train_tensor).cpu().detach().numpy()\n",
    "        y_test_pred = model(X_test_tensor).cpu().detach().numpy()\n",
    "\n",
    "    return y_train_pred.squeeze(), y_test_pred.squeeze()\n"
   ]
  },
  {
   "cell_type": "code",
   "execution_count": 4,
   "id": "92b544a9",
   "metadata": {},
   "outputs": [],
   "source": [
    "def evaluate_and_save(model, full_model_name, X_train, y_train, X_test, y_test, results, path):\n",
    "    \n",
    "    if isinstance(model, nn.Module):\n",
    "        # For PyTorch models, use the custom training and prediction function\n",
    "        y_train_pred, y_test_pred = train_pytorch_model(model, X_train, y_train, X_test, y_test)\n",
    "    else:\n",
    "        # For sklearn models, fit the model and predict\n",
    "        model.fit(X_train, y_train)\n",
    "        y_train_pred = model.predict_proba(X_train)[:, 1]\n",
    "        y_test_pred = model.predict_proba(X_test)[:, 1]\n",
    "    \n",
    "    # Evaluate model performance\n",
    "    auroc_train = roc_auc_score(y_train, y_train_pred)\n",
    "    auroc_test = roc_auc_score(y_test, y_test_pred)\n",
    "    \n",
    "    # Correctly handle top 30 hit rate calculation\n",
    "    sorted_indices = np.argsort(y_test_pred)[-30:]  # Indices of top 30 predictions\n",
    "    top_30_hits = y_test.reset_index(drop=True).iloc[sorted_indices].sum()\n",
    "    top_30_hit_rate = top_30_hits / 30\n",
    "\n",
    "    results.append({\n",
    "        'model': full_model_name,\n",
    "        'auroc_train': auroc_train,\n",
    "        'auroc_test': auroc_test,\n",
    "        'top_30_hit_num': int(top_30_hits),\n",
    "        'top_30_hit_rate': top_30_hit_rate\n",
    "    })\n",
    "    \n",
    "    # Save the model\n",
    "    model_path = f\"{path}{full_model_name}.joblib\"\n",
    "    joblib.dump(model, model_path)\n",
    "\n",
    "def train_and_evaluate_models(df, models, features, target_column, path, imputation, oversampling):\n",
    "    train_data = df[df['training_data'] == 1]\n",
    "    test_data = df[df['training_data'] == 0]\n",
    "\n",
    "    X_train = train_data[features]\n",
    "    y_train = train_data[target_column]\n",
    "    X_test = test_data[features]\n",
    "    y_test = test_data[target_column]\n",
    "\n",
    "    results = []\n",
    "    \n",
    "    combination_name = f\"{imputation}_{oversampling}\"\n",
    "    print(f\"Training {combination_name}...\")\n",
    "    \n",
    "    for model in models:\n",
    "        model_name = type(model).__name__\n",
    "        full_model_name = f\"{imputation}_{oversampling}_{model_name}\"\n",
    "        evaluate_and_save(model, full_model_name, X_train, y_train, X_test, y_test, results, path)\n",
    "\n",
    "    return pd.DataFrame(results)\n"
   ]
  },
  {
   "cell_type": "code",
   "execution_count": 5,
   "id": "b61ae2cb",
   "metadata": {},
   "outputs": [
    {
     "name": "stderr",
     "output_type": "stream",
     "text": [
      "/Users/minwukim/anaconda3/lib/python3.11/site-packages/xgboost/sklearn.py:1395: UserWarning: `use_label_encoder` is deprecated in 1.7.0.\n",
      "  warnings.warn(\"`use_label_encoder` is deprecated in 1.7.0.\")\n"
     ]
    }
   ],
   "source": [
    "models = [\n",
    "    LogisticRegression(max_iter=10000), \n",
    "    RandomForestClassifier(n_estimators=100),\n",
    "    XGBClassifier(use_label_encoder=False, eval_metric='logloss'),\n",
    "    LGBMClassifier(verbose=-1),\n",
    "    CatBoostClassifier(verbose=0),\n",
    "    MLPClassifier(hidden_layer_sizes=(100, 50), max_iter=5000),\n",
    "    DropoutMLPClassifier(input_dim=len(features))\n",
    "]"
   ]
  },
  {
   "cell_type": "markdown",
   "id": "18c2148d",
   "metadata": {},
   "source": [
    "## 1. Sparse data"
   ]
  },
  {
   "cell_type": "code",
   "execution_count": 6,
   "id": "ea1af29f",
   "metadata": {},
   "outputs": [
    {
     "name": "stderr",
     "output_type": "stream",
     "text": [
      "/var/folders/kw/6hnl881s2p9701b42gpjt_pr0000gn/T/ipykernel_20513/3492577605.py:1: DtypeWarning: Columns (10) have mixed types. Specify dtype option on import or set low_memory=False.\n",
      "  df_sparse = pd.read_csv('../database/companies/original/2016-2023.csv')\n"
     ]
    }
   ],
   "source": [
    "df_sparse = pd.read_csv('../database/companies/original/2016-2023.csv')"
   ]
  },
  {
   "cell_type": "code",
   "execution_count": 7,
   "id": "5ddcb362",
   "metadata": {},
   "outputs": [
    {
     "name": "stderr",
     "output_type": "stream",
     "text": [
      "/Users/minwukim/anaconda3/lib/python3.11/site-packages/xgboost/sklearn.py:1395: UserWarning: `use_label_encoder` is deprecated in 1.7.0.\n",
      "  warnings.warn(\"`use_label_encoder` is deprecated in 1.7.0.\")\n"
     ]
    }
   ],
   "source": [
    "gbm_models = [\n",
    "    XGBClassifier(use_label_encoder=False, eval_metric='logloss'),\n",
    "    LGBMClassifier(verbose=-1),\n",
    "    CatBoostClassifier(verbose=0)\n",
    "]\n",
    "\n",
    "train_data = df_sparse[df_sparse['training_data'] == 1]\n",
    "test_data = df_sparse[df_sparse['training_data'] == 0]\n",
    "\n",
    "X_train = train_data[features]\n",
    "y_train = train_data['targeted']\n",
    "X_test = test_data[features]\n",
    "y_test = test_data['targeted']\n",
    "\n",
    "sparse_result = []\n",
    "\n",
    "for model in gbm_models:\n",
    "    \n",
    "    model_name = model.__class__.__name__\n",
    "    full_model_name = f\"Sparse{model_name}\"\n",
    "    \n",
    "    model.fit(X_train, y_train)\n",
    "    \n",
    "    y_train_pred = model.predict_proba(X_train)[:, 1]\n",
    "    y_test_pred = model.predict_proba(X_test)[:, 1]\n",
    "    \n",
    "    auroc_train = roc_auc_score(y_train, y_train_pred)\n",
    "    auroc_test = roc_auc_score(y_test, y_test_pred)\n",
    "    \n",
    "    # Calculate top 30 hits\n",
    "    top_30_idx = np.argsort(y_test_pred)[-30:]\n",
    "    top_30_hits = y_test.iloc[top_30_idx].sum()\n",
    "    top_30_hit_rate = top_30_hits / 30\n",
    "    \n",
    "    sparse_result.append({\n",
    "        'model': full_model_name,\n",
    "        'auroc_train': auroc_train,\n",
    "        'auroc_test': auroc_test,\n",
    "        'top_30_hit_num': top_30_hits,\n",
    "        'top_30_hit_rate': top_30_hit_rate\n",
    "    })\n",
    "    \n",
    "    path = '../models/Original/'\n",
    "    model_path = f\"{path}{full_model_name}.joblib\"\n",
    "    joblib.dump(model, model_path)\n",
    "\n",
    "\n",
    "sparse_result = pd.DataFrame(sparse_result)"
   ]
  },
  {
   "cell_type": "code",
   "execution_count": 8,
   "id": "ffe777c0",
   "metadata": {},
   "outputs": [
    {
     "data": {
      "text/html": [
       "<div>\n",
       "<style scoped>\n",
       "    .dataframe tbody tr th:only-of-type {\n",
       "        vertical-align: middle;\n",
       "    }\n",
       "\n",
       "    .dataframe tbody tr th {\n",
       "        vertical-align: top;\n",
       "    }\n",
       "\n",
       "    .dataframe thead th {\n",
       "        text-align: right;\n",
       "    }\n",
       "</style>\n",
       "<table border=\"1\" class=\"dataframe\">\n",
       "  <thead>\n",
       "    <tr style=\"text-align: right;\">\n",
       "      <th></th>\n",
       "      <th>model</th>\n",
       "      <th>auroc_train</th>\n",
       "      <th>auroc_test</th>\n",
       "      <th>top_30_hit_num</th>\n",
       "      <th>top_30_hit_rate</th>\n",
       "    </tr>\n",
       "  </thead>\n",
       "  <tbody>\n",
       "    <tr>\n",
       "      <th>0</th>\n",
       "      <td>SparseXGBClassifier</td>\n",
       "      <td>1.000000</td>\n",
       "      <td>0.659513</td>\n",
       "      <td>3</td>\n",
       "      <td>0.100000</td>\n",
       "    </tr>\n",
       "    <tr>\n",
       "      <th>1</th>\n",
       "      <td>SparseLGBMClassifier</td>\n",
       "      <td>0.999935</td>\n",
       "      <td>0.671421</td>\n",
       "      <td>3</td>\n",
       "      <td>0.100000</td>\n",
       "    </tr>\n",
       "    <tr>\n",
       "      <th>2</th>\n",
       "      <td>SparseCatBoostClassifier</td>\n",
       "      <td>0.997460</td>\n",
       "      <td>0.692081</td>\n",
       "      <td>4</td>\n",
       "      <td>0.133333</td>\n",
       "    </tr>\n",
       "  </tbody>\n",
       "</table>\n",
       "</div>"
      ],
      "text/plain": [
       "                      model  auroc_train  auroc_test  top_30_hit_num  \\\n",
       "0       SparseXGBClassifier     1.000000    0.659513               3   \n",
       "1      SparseLGBMClassifier     0.999935    0.671421               3   \n",
       "2  SparseCatBoostClassifier     0.997460    0.692081               4   \n",
       "\n",
       "   top_30_hit_rate  \n",
       "0         0.100000  \n",
       "1         0.100000  \n",
       "2         0.133333  "
      ]
     },
     "execution_count": 8,
     "metadata": {},
     "output_type": "execute_result"
    }
   ],
   "source": [
    "sparse_result"
   ]
  },
  {
   "cell_type": "markdown",
   "id": "dfdda7d8",
   "metadata": {},
   "source": [
    "## 2. Median Imputation"
   ]
  },
  {
   "cell_type": "code",
   "execution_count": 9,
   "id": "3b2422c0",
   "metadata": {},
   "outputs": [
    {
     "name": "stderr",
     "output_type": "stream",
     "text": [
      "/var/folders/kw/6hnl881s2p9701b42gpjt_pr0000gn/T/ipykernel_20513/3350869438.py:1: DtypeWarning: Columns (11) have mixed types. Specify dtype option on import or set low_memory=False.\n",
      "  df_median_original = pd.read_csv('../database/companies/imputation/median/median_original.csv')\n",
      "/var/folders/kw/6hnl881s2p9701b42gpjt_pr0000gn/T/ipykernel_20513/3350869438.py:2: DtypeWarning: Columns (51,52,53,55,56,57,122,123,124,125,126,127,128,129) have mixed types. Specify dtype option on import or set low_memory=False.\n",
      "  df_median_rose = pd.read_csv('../database/companies/imputation/median/median_ROSE.csv')\n",
      "/var/folders/kw/6hnl881s2p9701b42gpjt_pr0000gn/T/ipykernel_20513/3350869438.py:3: DtypeWarning: Columns (51,52,53,55,56,57,122,123,124,125,126,127,128,129) have mixed types. Specify dtype option on import or set low_memory=False.\n",
      "  df_median_smotenc = pd.read_csv('../database/companies/imputation/median/median_SMOTENC.csv')\n",
      "/var/folders/kw/6hnl881s2p9701b42gpjt_pr0000gn/T/ipykernel_20513/3350869438.py:4: DtypeWarning: Columns (51,52,53,55,56,57,122,123,124,125,126,127,128,129) have mixed types. Specify dtype option on import or set low_memory=False.\n",
      "  df_median_borderlinesmote = pd.read_csv('../database/companies/imputation/median/median_BORDERLINESMOTE.csv')\n",
      "/var/folders/kw/6hnl881s2p9701b42gpjt_pr0000gn/T/ipykernel_20513/3350869438.py:5: DtypeWarning: Columns (51,52,53,55,56,57,122,123,124,125,126,127,128,129) have mixed types. Specify dtype option on import or set low_memory=False.\n",
      "  df_median_adasyn = pd.read_csv('../database/companies/imputation/median/median_ADASYN.csv')\n"
     ]
    }
   ],
   "source": [
    "df_median_original = pd.read_csv('../database/companies/imputation/median/median_original.csv')\n",
    "df_median_rose = pd.read_csv('../database/companies/imputation/median/median_ROSE.csv')\n",
    "df_median_smotenc = pd.read_csv('../database/companies/imputation/median/median_SMOTENC.csv')\n",
    "df_median_borderlinesmote = pd.read_csv('../database/companies/imputation/median/median_BORDERLINESMOTE.csv')\n",
    "df_median_adasyn = pd.read_csv('../database/companies/imputation/median/median_ADASYN.csv')"
   ]
  },
  {
   "cell_type": "code",
   "execution_count": 10,
   "id": "c27aff68",
   "metadata": {},
   "outputs": [
    {
     "name": "stdout",
     "output_type": "stream",
     "text": [
      "Training Median_Original...\n",
      "Training Median_Rose...\n",
      "Training Median_SmoteNC...\n",
      "Training Median_BorderlineSmote...\n",
      "Training Median_Adasyn...\n"
     ]
    }
   ],
   "source": [
    "median_original_path = \"../models/Median/Original/\"\n",
    "median_original_result = train_and_evaluate_models(df_median_original, models, features, \"targeted\", median_original_path, \"Median\", \"Original\")\n",
    "\n",
    "median_rose_path = \"../models/Median/Rose/\"\n",
    "median_rose_result = train_and_evaluate_models(df_median_rose, models, features, \"targeted\", median_rose_path, \"Median\", \"Rose\")\n",
    "\n",
    "median_smotenc_path = \"../models/Median/SmoteNC/\"\n",
    "median_smotenc_result = train_and_evaluate_models(df_median_smotenc, models, features, \"targeted\", median_smotenc_path, \"Median\", \"SmoteNC\")\n",
    "\n",
    "median_borderlinesmote_path = \"../models/Median/BorderlineSmote/\"\n",
    "median_borderlinesmote_result = train_and_evaluate_models(df_median_borderlinesmote, models, features, \"targeted\", median_borderlinesmote_path, \"Median\", \"BorderlineSmote\")\n",
    "\n",
    "median_adasyn_path = \"../models/Median/Adasyn/\"\n",
    "median_adasyn_result = train_and_evaluate_models(df_median_adasyn, models, features, \"targeted\", median_adasyn_path, \"Median\", \"Adasyn\")\n"
   ]
  },
  {
   "cell_type": "code",
   "execution_count": 11,
   "id": "8042f9c1",
   "metadata": {},
   "outputs": [],
   "source": [
    "median_result = pd.concat([median_original_result, median_rose_result, median_smotenc_result, median_borderlinesmote_result, median_adasyn_result], ignore_index=True)"
   ]
  },
  {
   "cell_type": "markdown",
   "id": "c8c56822",
   "metadata": {},
   "source": [
    "## 3. KNN Imputation"
   ]
  },
  {
   "cell_type": "code",
   "execution_count": 12,
   "id": "9ac440b9",
   "metadata": {},
   "outputs": [
    {
     "name": "stderr",
     "output_type": "stream",
     "text": [
      "/var/folders/kw/6hnl881s2p9701b42gpjt_pr0000gn/T/ipykernel_20513/174500167.py:2: DtypeWarning: Columns (51,52,53,55,56,57,129) have mixed types. Specify dtype option on import or set low_memory=False.\n",
      "  df_KNN_rose = pd.read_csv('../database/companies/imputation/kNN/kNN_ROSE.csv')\n",
      "/var/folders/kw/6hnl881s2p9701b42gpjt_pr0000gn/T/ipykernel_20513/174500167.py:3: DtypeWarning: Columns (51,52,53,55,56,57,129) have mixed types. Specify dtype option on import or set low_memory=False.\n",
      "  df_KNN_smotenc = pd.read_csv('../database/companies/imputation/kNN/kNN_SMOTENC.csv')\n",
      "/var/folders/kw/6hnl881s2p9701b42gpjt_pr0000gn/T/ipykernel_20513/174500167.py:4: DtypeWarning: Columns (51,52,53,55,56,57,129) have mixed types. Specify dtype option on import or set low_memory=False.\n",
      "  df_KNN_borderlinesmote = pd.read_csv('../database/companies/imputation/kNN/kNN_BORDERLINESMOTE.csv')\n",
      "/var/folders/kw/6hnl881s2p9701b42gpjt_pr0000gn/T/ipykernel_20513/174500167.py:5: DtypeWarning: Columns (51,52,53,55,56,57,129) have mixed types. Specify dtype option on import or set low_memory=False.\n",
      "  df_KNN_adasyn = pd.read_csv('../database/companies/imputation/kNN/kNN_ADASYN.csv')\n"
     ]
    }
   ],
   "source": [
    "df_KNN_original = pd.read_csv('../database/companies/imputation/kNN/kNN_original.csv')\n",
    "df_KNN_rose = pd.read_csv('../database/companies/imputation/kNN/kNN_ROSE.csv')\n",
    "df_KNN_smotenc = pd.read_csv('../database/companies/imputation/kNN/kNN_SMOTENC.csv')\n",
    "df_KNN_borderlinesmote = pd.read_csv('../database/companies/imputation/kNN/kNN_BORDERLINESMOTE.csv')\n",
    "df_KNN_adasyn = pd.read_csv('../database/companies/imputation/kNN/kNN_ADASYN.csv')"
   ]
  },
  {
   "cell_type": "code",
   "execution_count": 13,
   "id": "51a635b8",
   "metadata": {},
   "outputs": [
    {
     "name": "stdout",
     "output_type": "stream",
     "text": [
      "Training KNN_Original...\n",
      "Training KNN_Rose...\n",
      "Training KNN_SmoteNC...\n",
      "Training KNN_BorderlineSmote...\n",
      "Training KNN_Adasyn...\n"
     ]
    }
   ],
   "source": [
    "KNN_original_path = \"../models/KNN/Original/\"\n",
    "KNN_original_result = train_and_evaluate_models(df_KNN_original, models, features, \"targeted\", KNN_original_path, \"KNN\", \"Original\")\n",
    "\n",
    "KNN_rose_path = \"../models/KNN/Rose/\"\n",
    "KNN_rose_result = train_and_evaluate_models(df_KNN_rose, models, features, \"targeted\", KNN_rose_path, \"KNN\", \"Rose\")\n",
    "\n",
    "KNN_smotenc_path = \"../models/KNN/SmoteNC/\"\n",
    "KNN_smotenc_result = train_and_evaluate_models(df_KNN_smotenc, models, features, \"targeted\", KNN_smotenc_path, \"KNN\", \"SmoteNC\")\n",
    "\n",
    "KNN_borderlinesmote_path = \"../models/KNN/BorderlineSmote/\"\n",
    "KNN_borderlinesmote_result = train_and_evaluate_models(df_KNN_borderlinesmote, models, features, \"targeted\", KNN_borderlinesmote_path, \"KNN\", \"BorderlineSmote\")\n",
    "\n",
    "KNN_adasyn_path = \"../models/KNN/Adasyn/\"\n",
    "KNN_adasyn_result = train_and_evaluate_models(df_KNN_adasyn, models, features, \"targeted\", KNN_adasyn_path, \"KNN\", \"Adasyn\")\n"
   ]
  },
  {
   "cell_type": "code",
   "execution_count": 14,
   "id": "e92e6bab",
   "metadata": {},
   "outputs": [],
   "source": [
    "KNN_result = pd.concat([KNN_original_result, KNN_rose_result, KNN_smotenc_result, KNN_borderlinesmote_result, KNN_adasyn_result], ignore_index=True)"
   ]
  },
  {
   "cell_type": "markdown",
   "id": "25411533",
   "metadata": {},
   "source": [
    "## 4. MiceForest Imputation"
   ]
  },
  {
   "cell_type": "code",
   "execution_count": 15,
   "id": "c9add27d",
   "metadata": {},
   "outputs": [
    {
     "name": "stderr",
     "output_type": "stream",
     "text": [
      "/var/folders/kw/6hnl881s2p9701b42gpjt_pr0000gn/T/ipykernel_20513/2293645962.py:2: DtypeWarning: Columns (51,52,53,55,56,57,122,123,124,125,126,127,128,129) have mixed types. Specify dtype option on import or set low_memory=False.\n",
      "  df_MiceForest_rose = pd.read_csv('../database/companies/imputation/MiceForest/MiceForest_ROSE.csv')\n",
      "/var/folders/kw/6hnl881s2p9701b42gpjt_pr0000gn/T/ipykernel_20513/2293645962.py:3: DtypeWarning: Columns (51,52,53,55,56,57,122,123,124,125,126,127,128,129) have mixed types. Specify dtype option on import or set low_memory=False.\n",
      "  df_MiceForest_smotenc = pd.read_csv('../database/companies/imputation/MiceForest/MiceForest_SMOTENC.csv')\n",
      "/var/folders/kw/6hnl881s2p9701b42gpjt_pr0000gn/T/ipykernel_20513/2293645962.py:4: DtypeWarning: Columns (51,52,53,55,56,57,122,123,124,125,126,127,128,129) have mixed types. Specify dtype option on import or set low_memory=False.\n",
      "  df_MiceForest_borderlinesmote = pd.read_csv('../database/companies/imputation/MiceForest/MiceForest_BORDERLINESMOTE.csv')\n",
      "/var/folders/kw/6hnl881s2p9701b42gpjt_pr0000gn/T/ipykernel_20513/2293645962.py:5: DtypeWarning: Columns (51,52,53,55,56,57,122,123,124,125,126,127,128,129) have mixed types. Specify dtype option on import or set low_memory=False.\n",
      "  df_MiceForest_adasyn = pd.read_csv('../database/companies/imputation/MiceForest/MiceForest_ADASYN.csv')\n"
     ]
    }
   ],
   "source": [
    "df_MiceForest_original = pd.read_csv('../database/companies/imputation/MiceForest/MiceForest_original.csv')\n",
    "df_MiceForest_rose = pd.read_csv('../database/companies/imputation/MiceForest/MiceForest_ROSE.csv')\n",
    "df_MiceForest_smotenc = pd.read_csv('../database/companies/imputation/MiceForest/MiceForest_SMOTENC.csv')\n",
    "df_MiceForest_borderlinesmote = pd.read_csv('../database/companies/imputation/MiceForest/MiceForest_BORDERLINESMOTE.csv')\n",
    "df_MiceForest_adasyn = pd.read_csv('../database/companies/imputation/MiceForest/MiceForest_ADASYN.csv')"
   ]
  },
  {
   "cell_type": "code",
   "execution_count": 16,
   "id": "02d71719",
   "metadata": {},
   "outputs": [
    {
     "name": "stdout",
     "output_type": "stream",
     "text": [
      "Training MiceForest_Original...\n",
      "Training MiceForest_Rose...\n",
      "Training MiceForest_SmoteNC...\n"
     ]
    },
    {
     "name": "stderr",
     "output_type": "stream",
     "text": [
      "/Users/minwukim/anaconda3/lib/python3.11/site-packages/sklearn/linear_model/_logistic.py:460: ConvergenceWarning: lbfgs failed to converge (status=1):\n",
      "STOP: TOTAL NO. of ITERATIONS REACHED LIMIT.\n",
      "\n",
      "Increase the number of iterations (max_iter) or scale the data as shown in:\n",
      "    https://scikit-learn.org/stable/modules/preprocessing.html\n",
      "Please also refer to the documentation for alternative solver options:\n",
      "    https://scikit-learn.org/stable/modules/linear_model.html#logistic-regression\n",
      "  n_iter_i = _check_optimize_result(\n"
     ]
    },
    {
     "name": "stdout",
     "output_type": "stream",
     "text": [
      "Training MiceForest_BorderlineSmote...\n",
      "Training MiceForest_Adasyn...\n"
     ]
    }
   ],
   "source": [
    "MiceForest_original_path = \"../models/MiceForest/Original/\"\n",
    "MiceForest_original_result = train_and_evaluate_models(df_MiceForest_original, models, features, \"targeted\", MiceForest_original_path, \"MiceForest\", \"Original\")\n",
    "\n",
    "MiceForest_rose_path = \"../models/MiceForest/Rose/\"\n",
    "MiceForest_rose_result = train_and_evaluate_models(df_MiceForest_rose, models, features, \"targeted\", MiceForest_rose_path, \"MiceForest\", \"Rose\")\n",
    "\n",
    "MiceForest_smotenc_path = \"../models/MiceForest/SmoteNC/\"\n",
    "MiceForest_smotenc_result = train_and_evaluate_models(df_MiceForest_smotenc, models, features, \"targeted\", MiceForest_smotenc_path, \"MiceForest\", \"SmoteNC\")\n",
    "\n",
    "MiceForest_borderlinesmote_path = \"../models/MiceForest/BorderlineSmote/\"\n",
    "MiceForest_borderlinesmote_result = train_and_evaluate_models(df_MiceForest_borderlinesmote, models, features, \"targeted\", MiceForest_borderlinesmote_path, \"MiceForest\", \"BorderlineSmote\")\n",
    "\n",
    "MiceForest_adasyn_path = \"../models/MiceForest/Adasyn/\"\n",
    "MiceForest_adasyn_result = train_and_evaluate_models(df_MiceForest_adasyn, models, features, \"targeted\", MiceForest_adasyn_path, \"MiceForest\", \"Adasyn\")\n"
   ]
  },
  {
   "cell_type": "code",
   "execution_count": 17,
   "id": "d7019efe",
   "metadata": {},
   "outputs": [],
   "source": [
    "MiceForest_result = pd.concat([MiceForest_original_result, MiceForest_rose_result, MiceForest_smotenc_result, MiceForest_borderlinesmote_result, MiceForest_adasyn_result], ignore_index=True)"
   ]
  },
  {
   "cell_type": "markdown",
   "id": "f7e8375c",
   "metadata": {},
   "source": [
    "## 5. GAIN Imputation"
   ]
  },
  {
   "cell_type": "code",
   "execution_count": 18,
   "id": "1aa767ef",
   "metadata": {},
   "outputs": [
    {
     "name": "stderr",
     "output_type": "stream",
     "text": [
      "/var/folders/kw/6hnl881s2p9701b42gpjt_pr0000gn/T/ipykernel_20513/2431500427.py:2: DtypeWarning: Columns (51,52,53,55,56,57,122,123,124,125,126,127,128,129) have mixed types. Specify dtype option on import or set low_memory=False.\n",
      "  df_GAIN_rose = pd.read_csv('../database/companies/imputation/GAIN/GAIN_ROSE.csv')\n",
      "/var/folders/kw/6hnl881s2p9701b42gpjt_pr0000gn/T/ipykernel_20513/2431500427.py:3: DtypeWarning: Columns (51,52,53,55,56,57,122,123,124,125,126,127,128,129) have mixed types. Specify dtype option on import or set low_memory=False.\n",
      "  df_GAIN_smotenc = pd.read_csv('../database/companies/imputation/GAIN/GAIN_SMOTENC.csv')\n",
      "/var/folders/kw/6hnl881s2p9701b42gpjt_pr0000gn/T/ipykernel_20513/2431500427.py:4: DtypeWarning: Columns (51,52,53,55,56,57,122,123,124,125,126,127,128,129) have mixed types. Specify dtype option on import or set low_memory=False.\n",
      "  df_GAIN_borderlinesmote = pd.read_csv('../database/companies/imputation/GAIN/GAIN_BORDERLINESMOTE.csv')\n",
      "/var/folders/kw/6hnl881s2p9701b42gpjt_pr0000gn/T/ipykernel_20513/2431500427.py:5: DtypeWarning: Columns (51,52,53,55,56,57,122,123,124,125,126,127,128,129) have mixed types. Specify dtype option on import or set low_memory=False.\n",
      "  df_GAIN_adasyn = pd.read_csv('../database/companies/imputation/GAIN/GAIN_ADASYN.csv')\n"
     ]
    }
   ],
   "source": [
    "df_GAIN_original = pd.read_csv('../database/companies/imputation/GAIN/GAIN_original.csv')\n",
    "df_GAIN_rose = pd.read_csv('../database/companies/imputation/GAIN/GAIN_ROSE.csv')\n",
    "df_GAIN_smotenc = pd.read_csv('../database/companies/imputation/GAIN/GAIN_SMOTENC.csv')\n",
    "df_GAIN_borderlinesmote = pd.read_csv('../database/companies/imputation/GAIN/GAIN_BORDERLINESMOTE.csv')\n",
    "df_GAIN_adasyn = pd.read_csv('../database/companies/imputation/GAIN/GAIN_ADASYN.csv')"
   ]
  },
  {
   "cell_type": "code",
   "execution_count": 19,
   "id": "b237cc47",
   "metadata": {},
   "outputs": [
    {
     "name": "stdout",
     "output_type": "stream",
     "text": [
      "Training GAIN_Original...\n",
      "Training GAIN_Rose...\n",
      "Training GAIN_SmoteNC...\n",
      "Training GAIN_BorderlineSmote...\n",
      "Training GAIN_Adasyn...\n"
     ]
    }
   ],
   "source": [
    "GAIN_original_path = \"../models/GAIN/Original/\"\n",
    "GAIN_original_result = train_and_evaluate_models(df_GAIN_original, models, features, \"targeted\", GAIN_original_path, \"GAIN\", \"Original\")\n",
    "\n",
    "GAIN_rose_path = \"../models/GAIN/Rose/\"\n",
    "GAIN_rose_result = train_and_evaluate_models(df_GAIN_rose, models, features, \"targeted\", GAIN_rose_path, \"GAIN\", \"Rose\")\n",
    "\n",
    "GAIN_smotenc_path = \"../models/GAIN/SmoteNC/\"\n",
    "GAIN_smotenc_result = train_and_evaluate_models(df_GAIN_smotenc, models, features, \"targeted\", GAIN_smotenc_path, \"GAIN\", \"SmoteNC\")\n",
    "\n",
    "GAIN_borderlinesmote_path = \"../models/GAIN/BorderlineSmote/\"\n",
    "GAIN_borderlinesmote_result = train_and_evaluate_models(df_GAIN_borderlinesmote, models, features, \"targeted\", GAIN_borderlinesmote_path, \"GAIN\", \"BorderlineSmote\")\n",
    "\n",
    "GAIN_adasyn_path = \"../models/GAIN/Adasyn/\"\n",
    "GAIN_adasyn_result = train_and_evaluate_models(df_GAIN_adasyn, models, features, \"targeted\", GAIN_adasyn_path, \"GAIN\", \"Adasyn\")\n"
   ]
  },
  {
   "cell_type": "code",
   "execution_count": 20,
   "id": "d1f27a79",
   "metadata": {},
   "outputs": [],
   "source": [
    "GAIN_result = pd.concat([GAIN_original_result, GAIN_rose_result, GAIN_smotenc_result, GAIN_borderlinesmote_result, GAIN_adasyn_result], ignore_index=True)"
   ]
  },
  {
   "cell_type": "markdown",
   "id": "7982171c",
   "metadata": {},
   "source": [
    "## 6. AUROC result export"
   ]
  },
  {
   "cell_type": "code",
   "execution_count": 21,
   "id": "5e0081c2",
   "metadata": {},
   "outputs": [],
   "source": [
    "final_result = pd.concat([sparse_result, median_result, KNN_result, MiceForest_result, GAIN_result], ignore_index=True)"
   ]
  },
  {
   "cell_type": "code",
   "execution_count": 22,
   "id": "b2f93801",
   "metadata": {},
   "outputs": [],
   "source": [
    "final_result.to_csv('../models/AUROC_table.csv')"
   ]
  }
 ],
 "metadata": {
  "kernelspec": {
   "display_name": "Python 3 (ipykernel)",
   "language": "python",
   "name": "python3"
  },
  "language_info": {
   "codemirror_mode": {
    "name": "ipython",
    "version": 3
   },
   "file_extension": ".py",
   "mimetype": "text/x-python",
   "name": "python",
   "nbconvert_exporter": "python",
   "pygments_lexer": "ipython3",
   "version": "3.11.7"
  }
 },
 "nbformat": 4,
 "nbformat_minor": 5
}
